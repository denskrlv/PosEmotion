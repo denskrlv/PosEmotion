{
 "cells": [
  {
   "cell_type": "markdown",
   "id": "9fe676d02abb000c",
   "metadata": {},
   "source": [
    "# Pose Estimation Related to Emotions"
   ]
  },
  {
   "cell_type": "code",
   "execution_count": null,
   "id": "417d61620ca03ef7",
   "metadata": {
    "ExecuteTime": {
     "end_time": "2024-05-16T10:15:46.497717Z",
     "start_time": "2024-05-16T10:15:45.568315Z"
    }
   },
   "outputs": [],
   "source": [
    "!pip3 install -r requirements.txt"
   ]
  },
  {
   "cell_type": "markdown",
   "id": "c96e57d0",
   "metadata": {},
   "source": [
    "# Package Installation"
   ]
  },
  {
   "cell_type": "code",
   "execution_count": null,
   "id": "642e5707",
   "metadata": {},
   "outputs": [],
   "source": [
    "import pandas as pd\n",
    "from tools.segment import Segment\n",
    "from tools.extractor import Extractor"
   ]
  },
  {
   "cell_type": "markdown",
   "id": "c5895195",
   "metadata": {},
   "source": [
    "# Data Preparation"
   ]
  },
  {
   "cell_type": "markdown",
   "id": "012e133e",
   "metadata": {},
   "source": [
    "Read \"annotaitions.csv\" file."
   ]
  },
  {
   "cell_type": "code",
   "execution_count": null,
   "id": "4ab5d9b9",
   "metadata": {},
   "outputs": [],
   "source": [
    "df = pd.read_csv(\"assets/annotations/annotations.csv\")\n",
    "df.head(30)"
   ]
  },
  {
   "cell_type": "markdown",
   "id": "7c002d45",
   "metadata": {},
   "source": [
    "Extract all frames from videos and create segments that represent a unique person."
   ]
  },
  {
   "cell_type": "code",
   "execution_count": null,
   "id": "4ecd48d1",
   "metadata": {},
   "outputs": [],
   "source": [
    "extractor = Extractor(\n",
    "    \"assets/annotations/annotations.csv\",\n",
    "    \"assets/videos\",\n",
    "    \"assets/frames\"\n",
    ")\n",
    "\n",
    "# extractor.extract_frames()\n",
    "\n",
    "segments = extractor.segmentate()\n",
    "for segment in segments:\n",
    "    print(segment.labels_to_probs())\n",
    "    print(segment)"
   ]
  },
  {
   "cell_type": "markdown",
   "id": "1de31fd8",
   "metadata": {},
   "source": [
    "# Pose Detection"
   ]
  }
 ],
 "metadata": {
  "kernelspec": {
   "display_name": "Python 3",
   "language": "python",
   "name": "python3"
  },
  "language_info": {
   "codemirror_mode": {
    "name": "ipython",
    "version": 3
   },
   "file_extension": ".py",
   "mimetype": "text/x-python",
   "name": "python",
   "nbconvert_exporter": "python",
   "pygments_lexer": "ipython3",
   "version": "3.9.6"
  }
 },
 "nbformat": 4,
 "nbformat_minor": 5
}
