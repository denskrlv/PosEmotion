{
 "cells": [
  {
   "cell_type": "markdown",
   "metadata": {},
   "source": [
    "# Pose Estimation Related to Emotions"
   ]
  },
  {
   "cell_type": "markdown",
   "metadata": {},
   "source": [
    "Before running the iPython Notebook, it is important to install all necessary packages. To do that, in terminal type the command <code>pip install -r requirements.txt</code>."
   ]
  },
  {
   "cell_type": "code",
   "execution_count": 1,
   "metadata": {},
   "outputs": [
    {
     "name": "stderr",
     "output_type": "stream",
     "text": [
      "/Users/deniskrylov/Developer/PosEmotion/venv/lib/python3.9/site-packages/urllib3/__init__.py:35: NotOpenSSLWarning: urllib3 v2 only supports OpenSSL 1.1.1+, currently the 'ssl' module is compiled with 'LibreSSL 2.8.3'. See: https://github.com/urllib3/urllib3/issues/3020\n",
      "  warnings.warn(\n"
     ]
    }
   ],
   "source": [
    "import pandas as pd\n",
    "from tools.detector import Detector\n",
    "from tools.extractor import Extractor\n",
    "from tools.metrics import label_probabilities\n",
    "from ultralytics import YOLO"
   ]
  },
  {
   "cell_type": "markdown",
   "metadata": {},
   "source": [
    "## Step 1: Preprocessing"
   ]
  },
  {
   "cell_type": "markdown",
   "metadata": {},
   "source": [
    "### Data Preparation"
   ]
  },
  {
   "cell_type": "markdown",
   "metadata": {},
   "source": [
    "Before operating with data, it's important to see how the data looks like. For that purpose, let's convert <code>annotation.csv</code> file to pandas Dataframe. As we can see below, the Dataframe has the following structure:\n",
    "\n",
    "- Video Tag → The video identification present in YouTube. Use it to retrieve the source video. \n",
    "In this version of the dataset, the videos are present in the \"/Videos\" folder.\n",
    "- Clip Id → Id for each clip from a source video. This identification is unique within a source video. \n",
    "For a certain “Video Tag” with an “Clip Id”, the “Person Id” will be unique to a certain person. \n",
    "- Labels → An arrays of arrays containing the labels given by each annotator of the dataset.\n",
    "- Frame Number → The frame that was used for that annotation\n",
    "- X → Starting position of the bounding box in the x-axis\n",
    "- Y → Starting position of the bounding box in the y-axis\n",
    "- Width → % of the width of the video used as offset for “X”\n",
    "- Height → % of the height of the video used as offset for “Y”\n",
    "- Person Id → Integer to identify a certain person for clips with the same “Video Tag” and “Clip Id”"
   ]
  },
  {
   "cell_type": "code",
   "execution_count": 2,
   "metadata": {},
   "outputs": [
    {
     "data": {
      "text/html": [
       "<div>\n",
       "<style scoped>\n",
       "    .dataframe tbody tr th:only-of-type {\n",
       "        vertical-align: middle;\n",
       "    }\n",
       "\n",
       "    .dataframe tbody tr th {\n",
       "        vertical-align: top;\n",
       "    }\n",
       "\n",
       "    .dataframe thead th {\n",
       "        text-align: right;\n",
       "    }\n",
       "</style>\n",
       "<table border=\"1\" class=\"dataframe\">\n",
       "  <thead>\n",
       "    <tr style=\"text-align: right;\">\n",
       "      <th></th>\n",
       "      <th>Video Tag</th>\n",
       "      <th>Clip Id</th>\n",
       "      <th>Labels</th>\n",
       "      <th>Frame Number</th>\n",
       "      <th>X</th>\n",
       "      <th>Y</th>\n",
       "      <th>Width</th>\n",
       "      <th>Height</th>\n",
       "      <th>Person Id</th>\n",
       "    </tr>\n",
       "  </thead>\n",
       "  <tbody>\n",
       "    <tr>\n",
       "      <th>0</th>\n",
       "      <td>aJKL0ahn1Dk</td>\n",
       "      <td>1</td>\n",
       "      <td>[['Happy'], ['Happy'], ['Happy']]</td>\n",
       "      <td>19532</td>\n",
       "      <td>41.965200</td>\n",
       "      <td>4.873195</td>\n",
       "      <td>44.216991</td>\n",
       "      <td>94.802684</td>\n",
       "      <td>0</td>\n",
       "    </tr>\n",
       "    <tr>\n",
       "      <th>1</th>\n",
       "      <td>aJKL0ahn1Dk</td>\n",
       "      <td>1</td>\n",
       "      <td>[['Happy'], ['Happy'], ['Happy']]</td>\n",
       "      <td>19538</td>\n",
       "      <td>41.564836</td>\n",
       "      <td>4.874640</td>\n",
       "      <td>44.216991</td>\n",
       "      <td>94.802684</td>\n",
       "      <td>0</td>\n",
       "    </tr>\n",
       "    <tr>\n",
       "      <th>2</th>\n",
       "      <td>aJKL0ahn1Dk</td>\n",
       "      <td>1</td>\n",
       "      <td>[['Happy'], ['Happy'], ['Happy']]</td>\n",
       "      <td>19544</td>\n",
       "      <td>41.164472</td>\n",
       "      <td>4.876086</td>\n",
       "      <td>44.216991</td>\n",
       "      <td>94.802684</td>\n",
       "      <td>0</td>\n",
       "    </tr>\n",
       "    <tr>\n",
       "      <th>3</th>\n",
       "      <td>aJKL0ahn1Dk</td>\n",
       "      <td>1</td>\n",
       "      <td>[['Happy'], ['Happy'], ['Happy']]</td>\n",
       "      <td>19550</td>\n",
       "      <td>40.764108</td>\n",
       "      <td>4.877532</td>\n",
       "      <td>44.216991</td>\n",
       "      <td>94.802684</td>\n",
       "      <td>0</td>\n",
       "    </tr>\n",
       "    <tr>\n",
       "      <th>4</th>\n",
       "      <td>aJKL0ahn1Dk</td>\n",
       "      <td>1</td>\n",
       "      <td>[['Happy'], ['Happy'], ['Happy']]</td>\n",
       "      <td>19556</td>\n",
       "      <td>39.646728</td>\n",
       "      <td>5.014136</td>\n",
       "      <td>44.216991</td>\n",
       "      <td>94.802684</td>\n",
       "      <td>0</td>\n",
       "    </tr>\n",
       "  </tbody>\n",
       "</table>\n",
       "</div>"
      ],
      "text/plain": [
       "     Video Tag  Clip Id                             Labels  Frame Number  \\\n",
       "0  aJKL0ahn1Dk        1  [['Happy'], ['Happy'], ['Happy']]         19532   \n",
       "1  aJKL0ahn1Dk        1  [['Happy'], ['Happy'], ['Happy']]         19538   \n",
       "2  aJKL0ahn1Dk        1  [['Happy'], ['Happy'], ['Happy']]         19544   \n",
       "3  aJKL0ahn1Dk        1  [['Happy'], ['Happy'], ['Happy']]         19550   \n",
       "4  aJKL0ahn1Dk        1  [['Happy'], ['Happy'], ['Happy']]         19556   \n",
       "\n",
       "           X         Y      Width     Height  Person Id  \n",
       "0  41.965200  4.873195  44.216991  94.802684          0  \n",
       "1  41.564836  4.874640  44.216991  94.802684          0  \n",
       "2  41.164472  4.876086  44.216991  94.802684          0  \n",
       "3  40.764108  4.877532  44.216991  94.802684          0  \n",
       "4  39.646728  5.014136  44.216991  94.802684          0  "
      ]
     },
     "execution_count": 2,
     "metadata": {},
     "output_type": "execute_result"
    }
   ],
   "source": [
    "df = pd.read_csv(\"assets/annotations/annotations.csv\")\n",
    "df.head()"
   ]
  },
  {
   "cell_type": "markdown",
   "metadata": {},
   "source": [
    "Each combination of <code>Video Tag</code>, <code>Clip Id</code> and <code>Person Id</code> represents a unique emotion related to a person. Therefore, we can split these emotions into segments."
   ]
  },
  {
   "cell_type": "code",
   "execution_count": 3,
   "metadata": {},
   "outputs": [
    {
     "name": "stdout",
     "output_type": "stream",
     "text": [
      "Number of segments: 629\n",
      "First 5 segments: [(0, 27), (28, 39), (40, 51), (52, 69), (70, 77)]\n"
     ]
    }
   ],
   "source": [
    "extractor = Extractor(\n",
    "    \"assets/annotations/annotations.csv\",\n",
    "    \"assets/videos\",\n",
    "    \"assets/frames\"\n",
    ")\n",
    "\n",
    "# Uncomment the line below to extract frames from the videos\n",
    "# extractor.extract_frames()\n",
    "\n",
    "# Extracting the segments from the CSV file \n",
    "# (each segment represents a unique person in the fragment of video)\n",
    "segments = extractor.extract_segments()\n",
    "print(\"Number of segments:\", len(segments))\n",
    "print(\"First 5 segments:\", segments[:5])"
   ]
  },
  {
   "cell_type": "markdown",
   "metadata": {},
   "source": [
    "Before pose detection, we need to convert our dataset in such a way, that the array of <code>Labels</code> column will be converted to multiple columns, where each column represents a probability of a particular emotion, calculated as $i/n$, where $i$ is an emotion label and $n$ is a total number of emotions that were detected by different annotators."
   ]
  },
  {
   "cell_type": "code",
   "execution_count": 4,
   "metadata": {},
   "outputs": [
    {
     "data": {
      "text/html": [
       "<div>\n",
       "<style scoped>\n",
       "    .dataframe tbody tr th:only-of-type {\n",
       "        vertical-align: middle;\n",
       "    }\n",
       "\n",
       "    .dataframe tbody tr th {\n",
       "        vertical-align: top;\n",
       "    }\n",
       "\n",
       "    .dataframe thead th {\n",
       "        text-align: right;\n",
       "    }\n",
       "</style>\n",
       "<table border=\"1\" class=\"dataframe\">\n",
       "  <thead>\n",
       "    <tr style=\"text-align: right;\">\n",
       "      <th></th>\n",
       "      <th>Video Tag</th>\n",
       "      <th>Clip Id</th>\n",
       "      <th>Frame Number</th>\n",
       "      <th>X</th>\n",
       "      <th>Y</th>\n",
       "      <th>Width</th>\n",
       "      <th>Height</th>\n",
       "      <th>Person Id</th>\n",
       "      <th>Happy</th>\n",
       "      <th>Sad</th>\n",
       "      <th>Fear</th>\n",
       "      <th>Neutral</th>\n",
       "      <th>Surprise</th>\n",
       "      <th>Disgust</th>\n",
       "      <th>Anger</th>\n",
       "    </tr>\n",
       "  </thead>\n",
       "  <tbody>\n",
       "    <tr>\n",
       "      <th>0</th>\n",
       "      <td>aJKL0ahn1Dk</td>\n",
       "      <td>1</td>\n",
       "      <td>19532</td>\n",
       "      <td>41.965200</td>\n",
       "      <td>4.873195</td>\n",
       "      <td>44.216991</td>\n",
       "      <td>94.802684</td>\n",
       "      <td>0</td>\n",
       "      <td>1.0</td>\n",
       "      <td>0.0</td>\n",
       "      <td>0.0</td>\n",
       "      <td>0.0</td>\n",
       "      <td>0.0</td>\n",
       "      <td>0.0</td>\n",
       "      <td>0.0</td>\n",
       "    </tr>\n",
       "    <tr>\n",
       "      <th>1</th>\n",
       "      <td>aJKL0ahn1Dk</td>\n",
       "      <td>1</td>\n",
       "      <td>19538</td>\n",
       "      <td>41.564836</td>\n",
       "      <td>4.874640</td>\n",
       "      <td>44.216991</td>\n",
       "      <td>94.802684</td>\n",
       "      <td>0</td>\n",
       "      <td>1.0</td>\n",
       "      <td>0.0</td>\n",
       "      <td>0.0</td>\n",
       "      <td>0.0</td>\n",
       "      <td>0.0</td>\n",
       "      <td>0.0</td>\n",
       "      <td>0.0</td>\n",
       "    </tr>\n",
       "    <tr>\n",
       "      <th>2</th>\n",
       "      <td>aJKL0ahn1Dk</td>\n",
       "      <td>1</td>\n",
       "      <td>19544</td>\n",
       "      <td>41.164472</td>\n",
       "      <td>4.876086</td>\n",
       "      <td>44.216991</td>\n",
       "      <td>94.802684</td>\n",
       "      <td>0</td>\n",
       "      <td>1.0</td>\n",
       "      <td>0.0</td>\n",
       "      <td>0.0</td>\n",
       "      <td>0.0</td>\n",
       "      <td>0.0</td>\n",
       "      <td>0.0</td>\n",
       "      <td>0.0</td>\n",
       "    </tr>\n",
       "    <tr>\n",
       "      <th>3</th>\n",
       "      <td>aJKL0ahn1Dk</td>\n",
       "      <td>1</td>\n",
       "      <td>19550</td>\n",
       "      <td>40.764108</td>\n",
       "      <td>4.877532</td>\n",
       "      <td>44.216991</td>\n",
       "      <td>94.802684</td>\n",
       "      <td>0</td>\n",
       "      <td>1.0</td>\n",
       "      <td>0.0</td>\n",
       "      <td>0.0</td>\n",
       "      <td>0.0</td>\n",
       "      <td>0.0</td>\n",
       "      <td>0.0</td>\n",
       "      <td>0.0</td>\n",
       "    </tr>\n",
       "    <tr>\n",
       "      <th>4</th>\n",
       "      <td>aJKL0ahn1Dk</td>\n",
       "      <td>1</td>\n",
       "      <td>19556</td>\n",
       "      <td>39.646728</td>\n",
       "      <td>5.014136</td>\n",
       "      <td>44.216991</td>\n",
       "      <td>94.802684</td>\n",
       "      <td>0</td>\n",
       "      <td>1.0</td>\n",
       "      <td>0.0</td>\n",
       "      <td>0.0</td>\n",
       "      <td>0.0</td>\n",
       "      <td>0.0</td>\n",
       "      <td>0.0</td>\n",
       "      <td>0.0</td>\n",
       "    </tr>\n",
       "  </tbody>\n",
       "</table>\n",
       "</div>"
      ],
      "text/plain": [
       "     Video Tag  Clip Id  Frame Number          X         Y      Width  \\\n",
       "0  aJKL0ahn1Dk        1         19532  41.965200  4.873195  44.216991   \n",
       "1  aJKL0ahn1Dk        1         19538  41.564836  4.874640  44.216991   \n",
       "2  aJKL0ahn1Dk        1         19544  41.164472  4.876086  44.216991   \n",
       "3  aJKL0ahn1Dk        1         19550  40.764108  4.877532  44.216991   \n",
       "4  aJKL0ahn1Dk        1         19556  39.646728  5.014136  44.216991   \n",
       "\n",
       "      Height  Person Id  Happy  Sad  Fear  Neutral  Surprise  Disgust  Anger  \n",
       "0  94.802684          0    1.0  0.0   0.0      0.0       0.0      0.0    0.0  \n",
       "1  94.802684          0    1.0  0.0   0.0      0.0       0.0      0.0    0.0  \n",
       "2  94.802684          0    1.0  0.0   0.0      0.0       0.0      0.0    0.0  \n",
       "3  94.802684          0    1.0  0.0   0.0      0.0       0.0      0.0    0.0  \n",
       "4  94.802684          0    1.0  0.0   0.0      0.0       0.0      0.0    0.0  "
      ]
     },
     "execution_count": 4,
     "metadata": {},
     "output_type": "execute_result"
    }
   ],
   "source": [
    "df = label_probabilities(df)\n",
    "df.head()"
   ]
  },
  {
   "cell_type": "markdown",
   "metadata": {},
   "source": [
    "### Extract Key Points"
   ]
  },
  {
   "cell_type": "markdown",
   "metadata": {},
   "source": [
    "To extract keypoints, different approaches will be used such as YOLO-Pose, DeepPose and OpenPose. For each of the approaches, a different dataframe will be created with coordinates of keypoints.\n",
    "\n",
    "- For each frame, a person will be detected (using ground truth).\n",
    "- Mask will be applied for the rest of the frame (to avoid detecting multiple people).\n",
    "- After for each frame pose detection algorithm will be applied.\n",
    "- At the end, csv file with keypoints will be created."
   ]
  },
  {
   "cell_type": "code",
   "execution_count": null,
   "metadata": {},
   "outputs": [],
   "source": [
    "# for each row get X, Y, Width, Height\n",
    "# create a cropped_image = image[y:y+h, x:x+w]\n",
    "# use this cropped image to detect poses\n",
    "# get the pose keypoints\n",
    "# add them to the dataframe"
   ]
  },
  {
   "cell_type": "markdown",
   "metadata": {},
   "source": [
    "##### YOLO-Pose"
   ]
  },
  {
   "cell_type": "code",
   "execution_count": 5,
   "metadata": {},
   "outputs": [
    {
     "data": {
      "text/html": [
       "<div>\n",
       "<style scoped>\n",
       "    .dataframe tbody tr th:only-of-type {\n",
       "        vertical-align: middle;\n",
       "    }\n",
       "\n",
       "    .dataframe tbody tr th {\n",
       "        vertical-align: top;\n",
       "    }\n",
       "\n",
       "    .dataframe thead th {\n",
       "        text-align: right;\n",
       "    }\n",
       "</style>\n",
       "<table border=\"1\" class=\"dataframe\">\n",
       "  <thead>\n",
       "    <tr style=\"text-align: right;\">\n",
       "      <th></th>\n",
       "      <th>nose_X</th>\n",
       "      <th>nose_Y</th>\n",
       "      <th>left_eye_X</th>\n",
       "      <th>left_eye_Y</th>\n",
       "      <th>right_eye_X</th>\n",
       "      <th>right_eye_Y</th>\n",
       "      <th>left_ear_X</th>\n",
       "      <th>left_ear_Y</th>\n",
       "      <th>right_ear_X</th>\n",
       "      <th>right_ear_Y</th>\n",
       "      <th>...</th>\n",
       "      <th>right_hip_X</th>\n",
       "      <th>right_hip_Y</th>\n",
       "      <th>left_knee_X</th>\n",
       "      <th>left_knee_Y</th>\n",
       "      <th>right_knee_X</th>\n",
       "      <th>right_knee_Y</th>\n",
       "      <th>left_ankle_X</th>\n",
       "      <th>left_ankle_Y</th>\n",
       "      <th>right_ankle_X</th>\n",
       "      <th>right_ankle_Y</th>\n",
       "    </tr>\n",
       "  </thead>\n",
       "  <tbody>\n",
       "    <tr>\n",
       "      <th>0</th>\n",
       "      <td>803.315979</td>\n",
       "      <td>173.557571</td>\n",
       "      <td>835.515747</td>\n",
       "      <td>148.530548</td>\n",
       "      <td>783.055054</td>\n",
       "      <td>145.369812</td>\n",
       "      <td>879.411865</td>\n",
       "      <td>173.806686</td>\n",
       "      <td>757.570801</td>\n",
       "      <td>163.862640</td>\n",
       "      <td>...</td>\n",
       "      <td>695.001770</td>\n",
       "      <td>688.964600</td>\n",
       "      <td>NaN</td>\n",
       "      <td>NaN</td>\n",
       "      <td>NaN</td>\n",
       "      <td>NaN</td>\n",
       "      <td>NaN</td>\n",
       "      <td>NaN</td>\n",
       "      <td>NaN</td>\n",
       "      <td>NaN</td>\n",
       "    </tr>\n",
       "    <tr>\n",
       "      <th>1</th>\n",
       "      <td>804.176758</td>\n",
       "      <td>173.216003</td>\n",
       "      <td>835.653809</td>\n",
       "      <td>147.682251</td>\n",
       "      <td>782.198486</td>\n",
       "      <td>145.796295</td>\n",
       "      <td>878.665039</td>\n",
       "      <td>173.041428</td>\n",
       "      <td>754.971069</td>\n",
       "      <td>165.978302</td>\n",
       "      <td>...</td>\n",
       "      <td>691.973938</td>\n",
       "      <td>694.487122</td>\n",
       "      <td>NaN</td>\n",
       "      <td>NaN</td>\n",
       "      <td>NaN</td>\n",
       "      <td>NaN</td>\n",
       "      <td>NaN</td>\n",
       "      <td>NaN</td>\n",
       "      <td>NaN</td>\n",
       "      <td>NaN</td>\n",
       "    </tr>\n",
       "    <tr>\n",
       "      <th>2</th>\n",
       "      <td>805.239990</td>\n",
       "      <td>169.009888</td>\n",
       "      <td>836.457214</td>\n",
       "      <td>143.686768</td>\n",
       "      <td>782.505249</td>\n",
       "      <td>142.022675</td>\n",
       "      <td>877.768127</td>\n",
       "      <td>170.935852</td>\n",
       "      <td>753.729370</td>\n",
       "      <td>164.452728</td>\n",
       "      <td>...</td>\n",
       "      <td>695.380554</td>\n",
       "      <td>695.014038</td>\n",
       "      <td>NaN</td>\n",
       "      <td>NaN</td>\n",
       "      <td>NaN</td>\n",
       "      <td>NaN</td>\n",
       "      <td>NaN</td>\n",
       "      <td>NaN</td>\n",
       "      <td>NaN</td>\n",
       "      <td>NaN</td>\n",
       "    </tr>\n",
       "    <tr>\n",
       "      <th>3</th>\n",
       "      <td>805.590393</td>\n",
       "      <td>172.032562</td>\n",
       "      <td>835.968811</td>\n",
       "      <td>146.862885</td>\n",
       "      <td>780.613586</td>\n",
       "      <td>146.146515</td>\n",
       "      <td>877.941833</td>\n",
       "      <td>173.451324</td>\n",
       "      <td>752.341492</td>\n",
       "      <td>171.449234</td>\n",
       "      <td>...</td>\n",
       "      <td>690.252319</td>\n",
       "      <td>686.663513</td>\n",
       "      <td>NaN</td>\n",
       "      <td>NaN</td>\n",
       "      <td>NaN</td>\n",
       "      <td>NaN</td>\n",
       "      <td>NaN</td>\n",
       "      <td>NaN</td>\n",
       "      <td>NaN</td>\n",
       "      <td>NaN</td>\n",
       "    </tr>\n",
       "    <tr>\n",
       "      <th>4</th>\n",
       "      <td>787.117676</td>\n",
       "      <td>165.914810</td>\n",
       "      <td>817.990356</td>\n",
       "      <td>138.446503</td>\n",
       "      <td>763.025269</td>\n",
       "      <td>141.949539</td>\n",
       "      <td>868.388611</td>\n",
       "      <td>162.747101</td>\n",
       "      <td>740.108887</td>\n",
       "      <td>168.018570</td>\n",
       "      <td>...</td>\n",
       "      <td>NaN</td>\n",
       "      <td>NaN</td>\n",
       "      <td>NaN</td>\n",
       "      <td>NaN</td>\n",
       "      <td>NaN</td>\n",
       "      <td>NaN</td>\n",
       "      <td>NaN</td>\n",
       "      <td>NaN</td>\n",
       "      <td>NaN</td>\n",
       "      <td>NaN</td>\n",
       "    </tr>\n",
       "  </tbody>\n",
       "</table>\n",
       "<p>5 rows × 34 columns</p>\n",
       "</div>"
      ],
      "text/plain": [
       "       nose_X      nose_Y  left_eye_X  left_eye_Y  right_eye_X  right_eye_Y  \\\n",
       "0  803.315979  173.557571  835.515747  148.530548   783.055054   145.369812   \n",
       "1  804.176758  173.216003  835.653809  147.682251   782.198486   145.796295   \n",
       "2  805.239990  169.009888  836.457214  143.686768   782.505249   142.022675   \n",
       "3  805.590393  172.032562  835.968811  146.862885   780.613586   146.146515   \n",
       "4  787.117676  165.914810  817.990356  138.446503   763.025269   141.949539   \n",
       "\n",
       "   left_ear_X  left_ear_Y  right_ear_X  right_ear_Y  ...  right_hip_X  \\\n",
       "0  879.411865  173.806686   757.570801   163.862640  ...   695.001770   \n",
       "1  878.665039  173.041428   754.971069   165.978302  ...   691.973938   \n",
       "2  877.768127  170.935852   753.729370   164.452728  ...   695.380554   \n",
       "3  877.941833  173.451324   752.341492   171.449234  ...   690.252319   \n",
       "4  868.388611  162.747101   740.108887   168.018570  ...          NaN   \n",
       "\n",
       "   right_hip_Y  left_knee_X  left_knee_Y  right_knee_X  right_knee_Y  \\\n",
       "0   688.964600          NaN          NaN           NaN           NaN   \n",
       "1   694.487122          NaN          NaN           NaN           NaN   \n",
       "2   695.014038          NaN          NaN           NaN           NaN   \n",
       "3   686.663513          NaN          NaN           NaN           NaN   \n",
       "4          NaN          NaN          NaN           NaN           NaN   \n",
       "\n",
       "   left_ankle_X  left_ankle_Y  right_ankle_X  right_ankle_Y  \n",
       "0           NaN           NaN            NaN            NaN  \n",
       "1           NaN           NaN            NaN            NaN  \n",
       "2           NaN           NaN            NaN            NaN  \n",
       "3           NaN           NaN            NaN            NaN  \n",
       "4           NaN           NaN            NaN            NaN  \n",
       "\n",
       "[5 rows x 34 columns]"
      ]
     },
     "execution_count": 5,
     "metadata": {},
     "output_type": "execute_result"
    }
   ],
   "source": [
    "def apply_yolo():    \n",
    "    keypoints = []\n",
    "    yolo_detector = Detector(\"models/yolo-pose.pt\")\n",
    "\n",
    "    for index, row in df.iterrows():\n",
    "        try:\n",
    "            result = yolo_detector.detect_poses(\"assets/frames/{}_{}.jpg\".format(row[\"Video Tag\"], index))\n",
    "            keypoints.append(result.to_dict())\n",
    "            print(\"Progress: {}/{}\".format(index+1, len(df)))\n",
    "        except:\n",
    "            raise Exception(\"Error in detecting poses!\")\n",
    "\n",
    "    keypoints_df = pd.DataFrame(keypoints)\n",
    "    keypoints_df.to_csv(\"/Users/deniskrylov/Developer/PosEmotion/assets/annotations/yolo_keypoints.csv\", index=True)\n",
    "\n",
    "\n",
    "# Uncomment the line below to apply YOLO to the frames\n",
    "# apply_yolo()\n",
    "\n",
    "yolo_df = pd.read_csv(\"/Users/deniskrylov/Developer/PosEmotion/assets/annotations/yolo_keypoints.csv\")\n",
    "yolo_df.head()"
   ]
  },
  {
   "cell_type": "code",
   "execution_count": 6,
   "metadata": {},
   "outputs": [
    {
     "name": "stdout",
     "output_type": "stream",
     "text": [
      "\n",
      "image 1/1 /Users/deniskrylov/Developer/PosEmotion/assets/frames/UpFG5ZK62XM_2692.jpg: 768x1280 1 person, 1108.7ms\n",
      "Speed: 2.3ms preprocess, 1108.7ms inference, 289.8ms postprocess per image at shape (1, 3, 768, 1280)\n"
     ]
    },
    {
     "data": {
      "image/jpeg": "[encoded data removed]",
      "text/plain": [
       "<IPython.core.display.Image object>"
      ]
     },
     "metadata": {},
     "output_type": "display_data"
    }
   ],
   "source": [
    "yolo_detector = Detector(\"models/yolo-pose.pt\")\n",
    "result = yolo_detector.detect_poses(\"assets/frames/UpFG5ZK62XM_2692.jpg\")\n",
    "result.draw_ipython(False)"
   ]
  },
  {
   "cell_type": "markdown",
   "metadata": {},
   "source": [
    "##### OpenPose"
   ]
  },
  {
   "cell_type": "markdown",
   "metadata": {},
   "source": [
    "##### PoseFlow"
   ]
  },
  {
   "cell_type": "markdown",
   "metadata": {},
   "source": [
    "### Normalization"
   ]
  },
  {
   "cell_type": "markdown",
   "metadata": {},
   "source": [
    "Normalization has 2 parts: per image and per segment.\n",
    "\n",
    "- Per Image: all keypoints will be normalized according to the default size of the image $(h,w)$ and according to the size of a person on the image.\n",
    "- Per Segment: all segment sizes will be normalized to the default segment size $x$."
   ]
  },
  {
   "cell_type": "markdown",
   "metadata": {},
   "source": [
    "### Frame-wise Aggregation"
   ]
  },
  {
   "cell_type": "markdown",
   "metadata": {},
   "source": [
    "## Step 2: Feature Extraction"
   ]
  },
  {
   "cell_type": "markdown",
   "metadata": {},
   "source": [
    "### Pose Features"
   ]
  },
  {
   "cell_type": "markdown",
   "metadata": {},
   "source": [
    "### Dimensionality Reduction"
   ]
  },
  {
   "cell_type": "markdown",
   "metadata": {},
   "source": [
    "## Step 3: Clustering"
   ]
  },
  {
   "cell_type": "markdown",
   "metadata": {},
   "source": [
    "### Choose Clustering Algorithm"
   ]
  },
  {
   "cell_type": "markdown",
   "metadata": {},
   "source": [
    "### Cluster Poses"
   ]
  },
  {
   "cell_type": "markdown",
   "metadata": {},
   "source": [
    "## Step 4: Emotion Label Association"
   ]
  },
  {
   "cell_type": "markdown",
   "metadata": {},
   "source": [
    "### Associate Poses with Emotions"
   ]
  },
  {
   "cell_type": "markdown",
   "metadata": {},
   "source": [
    "## Step 5: Evaluation and Refinement"
   ]
  },
  {
   "cell_type": "markdown",
   "metadata": {},
   "source": [
    "### Evaluate Clusters"
   ]
  },
  {
   "cell_type": "markdown",
   "metadata": {},
   "source": [
    "### Refine Clusters"
   ]
  }
 ],
 "metadata": {
  "kernelspec": {
   "display_name": "venv",
   "language": "python",
   "name": "python3"
  },
  "language_info": {
   "codemirror_mode": {
    "name": "ipython",
    "version": 3
   },
   "file_extension": ".py",
   "mimetype": "text/x-python",
   "name": "python",
   "nbconvert_exporter": "python",
   "pygments_lexer": "ipython3",
   "version": "3.9.6"
  }
 },
 "nbformat": 4,
 "nbformat_minor": 2
}
